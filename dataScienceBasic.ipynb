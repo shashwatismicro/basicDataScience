{
 "cells": [
  {
   "cell_type": "markdown",
   "metadata": {},
   "source": [
    "NUMPY"
   ]
  },
  {
   "cell_type": "code",
   "execution_count": 9,
   "metadata": {},
   "outputs": [],
   "source": [
    "import numpy as np"
   ]
  },
  {
   "cell_type": "code",
   "execution_count": 3,
   "metadata": {},
   "outputs": [],
   "source": [
    "a = np.array([1,3,4,5,6,7])\n",
    "b = np.array((1,2,3))"
   ]
  },
  {
   "cell_type": "code",
   "execution_count": 5,
   "metadata": {},
   "outputs": [
    {
     "data": {
      "text/plain": [
       "numpy.ndarray"
      ]
     },
     "execution_count": 5,
     "metadata": {},
     "output_type": "execute_result"
    }
   ],
   "source": [
    "type(a)"
   ]
  },
  {
   "cell_type": "code",
   "execution_count": 6,
   "metadata": {},
   "outputs": [
    {
     "data": {
      "text/plain": [
       "numpy.ndarray"
      ]
     },
     "execution_count": 6,
     "metadata": {},
     "output_type": "execute_result"
    }
   ],
   "source": [
    "type(b)"
   ]
  },
  {
   "cell_type": "markdown",
   "metadata": {},
   "source": [
    "Dimensions in numpy array"
   ]
  },
  {
   "cell_type": "code",
   "execution_count": 12,
   "metadata": {},
   "outputs": [],
   "source": [
    "a = np.array([[1,2,3], [4,5,6]])"
   ]
  },
  {
   "cell_type": "code",
   "execution_count": 14,
   "metadata": {},
   "outputs": [
    {
     "data": {
      "text/plain": [
       "2"
      ]
     },
     "execution_count": 14,
     "metadata": {},
     "output_type": "execute_result"
    }
   ],
   "source": [
    "a.ndim # shows there are two arrays"
   ]
  },
  {
   "cell_type": "code",
   "execution_count": 17,
   "metadata": {},
   "outputs": [
    {
     "ename": "ValueError",
     "evalue": "setting an array element with a sequence. The requested array has an inhomogeneous shape after 1 dimensions. The detected shape was (2,) + inhomogeneous part.",
     "output_type": "error",
     "traceback": [
      "\u001b[0;31m---------------------------------------------------------------------------\u001b[0m",
      "\u001b[0;31mValueError\u001b[0m                                Traceback (most recent call last)",
      "Cell \u001b[0;32mIn[17], line 1\u001b[0m\n\u001b[0;32m----> 1\u001b[0m b \u001b[38;5;241m=\u001b[39m \u001b[43mnp\u001b[49m\u001b[38;5;241;43m.\u001b[39;49m\u001b[43marray\u001b[49m\u001b[43m(\u001b[49m\u001b[43m[\u001b[49m\u001b[43m[\u001b[49m\u001b[38;5;241;43m1\u001b[39;49m\u001b[43m,\u001b[49m\u001b[38;5;241;43m2\u001b[39;49m\u001b[43m,\u001b[49m\u001b[38;5;241;43m3\u001b[39;49m\u001b[43m]\u001b[49m\u001b[43m,\u001b[49m\u001b[43m \u001b[49m\u001b[43m[\u001b[49m\u001b[38;5;241;43m4\u001b[39;49m\u001b[43m,\u001b[49m\u001b[38;5;241;43m7\u001b[39;49m\u001b[43m,\u001b[49m\u001b[38;5;241;43m5\u001b[39;49m\u001b[43m,\u001b[49m\u001b[38;5;241;43m9\u001b[39;49m\u001b[43m]\u001b[49m\u001b[43m]\u001b[49m\u001b[43m)\u001b[49m \u001b[38;5;66;03m#this will not be a multidimensional array because no. of elements are not same.\u001b[39;00m\n",
      "\u001b[0;31mValueError\u001b[0m: setting an array element with a sequence. The requested array has an inhomogeneous shape after 1 dimensions. The detected shape was (2,) + inhomogeneous part."
     ]
    }
   ],
   "source": [
    "b = np.array([[1,2,3], [4,7,5,9]]) #this will not be a multidimensional array because no. of elements are not same."
   ]
  },
  {
   "cell_type": "code",
   "execution_count": 19,
   "metadata": {},
   "outputs": [
    {
     "name": "stdout",
     "output_type": "stream",
     "text": [
      "dimension =  2\n",
      "array idx = 1; element idx = 2 is 7\n"
     ]
    }
   ],
   "source": [
    "b = np.array([[1,2,3,4], [5,6,7,8]]) #this array will execute.\n",
    "print(\"dimension = \",b.ndim)\n",
    "print(\"array idx = 1; element idx = 2 is\", b[1,2]) #prints 3rd element from 2nd array"
   ]
  },
  {
   "cell_type": "code",
   "execution_count": 21,
   "metadata": {},
   "outputs": [],
   "source": [
    "#3d arrayt\n",
    "c = np.array([[[1,2,3], [4,5,6], [0,0,-1]],[[-1,-2,-3], [-4,-5,-6], [0,0,1]]])"
   ]
  },
  {
   "cell_type": "code",
   "execution_count": 22,
   "metadata": {},
   "outputs": [
    {
     "data": {
      "text/plain": [
       "3"
      ]
     },
     "execution_count": 22,
     "metadata": {},
     "output_type": "execute_result"
    }
   ],
   "source": [
    "c.ndim"
   ]
  },
  {
   "cell_type": "code",
   "execution_count": 24,
   "metadata": {},
   "outputs": [
    {
     "data": {
      "text/plain": [
       "-3"
      ]
     },
     "execution_count": 24,
     "metadata": {},
     "output_type": "execute_result"
    }
   ],
   "source": [
    "c[1,0,2]#[select 2d array, select 1 d array, select element]"
   ]
  },
  {
   "cell_type": "code",
   "execution_count": 25,
   "metadata": {},
   "outputs": [
    {
     "name": "stdout",
     "output_type": "stream",
     "text": [
      "18\n",
      "144\n"
     ]
    }
   ],
   "source": [
    "print(c.size) #no. of elements\n",
    "print(c.nbytes) #size of array in bytes"
   ]
  },
  {
   "cell_type": "code",
   "execution_count": 26,
   "metadata": {},
   "outputs": [
    {
     "name": "stdout",
     "output_type": "stream",
     "text": [
      "[ 0  1  2  3  4  5  6  7  8  9 10 11 12 13 14 15 16 17 18 19 20 21 22 23\n",
      " 24 25 26 27 28 29 30 31 32 33 34 35 36 37 38 39 40 41 42 43 44 45 46 47\n",
      " 48 49 50 51 52 53 54 55 56 57 58 59 60 61 62 63 64 65 66 67 68 69 70 71\n",
      " 72 73 74 75 76 77 78 79 80 81 82 83 84 85 86 87 88 89 90 91 92 93 94 95\n",
      " 96 97 98 99]\n"
     ]
    }
   ],
   "source": [
    "a = np.arange(100) #array with value 0 to 99\n",
    "print(a)"
   ]
  },
  {
   "cell_type": "code",
   "execution_count": 28,
   "metadata": {},
   "outputs": [
    {
     "name": "stdout",
     "output_type": "stream",
     "text": [
      "[20 23 26 29 32 35 38 41 44 47 50 53 56 59 62 65 68 71 74 77 80 83 86 89\n",
      " 92 95 98]\n"
     ]
    }
   ],
   "source": [
    "a = np.arange(20, 100, 3)# array from 20 to 100 with step size 3\n",
    "print(a)"
   ]
  },
  {
   "cell_type": "code",
   "execution_count": 29,
   "metadata": {},
   "outputs": [
    {
     "data": {
      "text/plain": [
       "numpy.ndarray"
      ]
     },
     "execution_count": 29,
     "metadata": {},
     "output_type": "execute_result"
    }
   ],
   "source": [
    "type(a)"
   ]
  },
  {
   "cell_type": "code",
   "execution_count": 30,
   "metadata": {},
   "outputs": [
    {
     "data": {
      "text/plain": [
       "29"
      ]
     },
     "execution_count": 30,
     "metadata": {},
     "output_type": "execute_result"
    }
   ],
   "source": [
    "a[3]"
   ]
  },
  {
   "cell_type": "code",
   "execution_count": 35,
   "metadata": {},
   "outputs": [
    {
     "name": "stdout",
     "output_type": "stream",
     "text": [
      "[1 3 0 4 2 6 5 9 8 7]\n"
     ]
    }
   ],
   "source": [
    "a = np.random.permutation(np.arange(10))\n",
    "print(a)"
   ]
  },
  {
   "cell_type": "code",
   "execution_count": 36,
   "metadata": {},
   "outputs": [
    {
     "name": "stdout",
     "output_type": "stream",
     "text": [
      "\u001b[0;31mDocstring:\u001b[0m\n",
      "randint(low, high=None, size=None, dtype=int)\n",
      "\n",
      "Return random integers from `low` (inclusive) to `high` (exclusive).\n",
      "\n",
      "Return random integers from the \"discrete uniform\" distribution of\n",
      "the specified dtype in the \"half-open\" interval [`low`, `high`). If\n",
      "`high` is None (the default), then results are from [0, `low`).\n",
      "\n",
      ".. note::\n",
      "    New code should use the `~numpy.random.Generator.integers`\n",
      "    method of a `~numpy.random.Generator` instance instead;\n",
      "    please see the :ref:`random-quick-start`.\n",
      "\n",
      "Parameters\n",
      "----------\n",
      "low : int or array-like of ints\n",
      "    Lowest (signed) integers to be drawn from the distribution (unless\n",
      "    ``high=None``, in which case this parameter is one above the\n",
      "    *highest* such integer).\n",
      "high : int or array-like of ints, optional\n",
      "    If provided, one above the largest (signed) integer to be drawn\n",
      "    from the distribution (see above for behavior if ``high=None``).\n",
      "    If array-like, must contain integer values\n",
      "size : int or tuple of ints, optional\n",
      "    Output shape.  If the given shape is, e.g., ``(m, n, k)``, then\n",
      "    ``m * n * k`` samples are drawn.  Default is None, in which case a\n",
      "    single value is returned.\n",
      "dtype : dtype, optional\n",
      "    Desired dtype of the result. Byteorder must be native.\n",
      "    The default value is int.\n",
      "\n",
      "    .. versionadded:: 1.11.0\n",
      "\n",
      "Returns\n",
      "-------\n",
      "out : int or ndarray of ints\n",
      "    `size`-shaped array of random integers from the appropriate\n",
      "    distribution, or a single such random int if `size` not provided.\n",
      "\n",
      "See Also\n",
      "--------\n",
      "random_integers : similar to `randint`, only for the closed\n",
      "    interval [`low`, `high`], and 1 is the lowest value if `high` is\n",
      "    omitted.\n",
      "random.Generator.integers: which should be used for new code.\n",
      "\n",
      "Examples\n",
      "--------\n",
      ">>> np.random.randint(2, size=10)\n",
      "array([1, 0, 0, 0, 1, 1, 0, 0, 1, 0]) # random\n",
      ">>> np.random.randint(1, size=10)\n",
      "array([0, 0, 0, 0, 0, 0, 0, 0, 0, 0])\n",
      "\n",
      "Generate a 2 x 4 array of ints between 0 and 4, inclusive:\n",
      "\n",
      ">>> np.random.randint(5, size=(2, 4))\n",
      "array([[4, 0, 2, 1], # random\n",
      "       [3, 2, 2, 0]])\n",
      "\n",
      "Generate a 1 x 3 array with 3 different upper bounds\n",
      "\n",
      ">>> np.random.randint(1, [3, 5, 10])\n",
      "array([2, 2, 9]) # random\n",
      "\n",
      "Generate a 1 by 3 array with 3 different lower bounds\n",
      "\n",
      ">>> np.random.randint([1, 5, 7], 10)\n",
      "array([9, 8, 7]) # random\n",
      "\n",
      "Generate a 2 by 4 array using broadcasting with dtype of uint8\n",
      "\n",
      ">>> np.random.randint([1, 3, 5, 7], [[10], [20]], dtype=np.uint8)\n",
      "array([[ 8,  6,  9,  7], # random\n",
      "       [ 1, 16,  9, 12]], dtype=uint8)\n",
      "\u001b[0;31mType:\u001b[0m      builtin_function_or_method"
     ]
    }
   ],
   "source": [
    "np.random.randint?"
   ]
  },
  {
   "cell_type": "code",
   "execution_count": 38,
   "metadata": {},
   "outputs": [
    {
     "name": "stdout",
     "output_type": "stream",
     "text": [
      "26\n"
     ]
    }
   ],
   "source": [
    "v = np.random.randint(20,30)\n",
    "print (v)"
   ]
  },
  {
   "cell_type": "code",
   "execution_count": 39,
   "metadata": {},
   "outputs": [
    {
     "name": "stderr",
     "output_type": "stream",
     "text": [
      "Matplotlib is building the font cache; this may take a moment.\n"
     ]
    }
   ],
   "source": [
    "import matplotlib.pyplot as ptl"
   ]
  },
  {
   "cell_type": "markdown",
   "metadata": {},
   "source": [
    "EXPLORING random"
   ]
  },
  {
   "cell_type": "code",
   "execution_count": 41,
   "metadata": {},
   "outputs": [],
   "source": [
    "a = np.random.rand(1000) #1000 random nos between 0 and 1"
   ]
  },
  {
   "cell_type": "code",
   "execution_count": 42,
   "metadata": {},
   "outputs": [
    {
     "name": "stdout",
     "output_type": "stream",
     "text": [
      "[9.04227446e-01 9.63306892e-01 6.26713996e-01 3.82525505e-01\n",
      " 6.49204016e-01 4.94045473e-01 2.47768815e-01 9.28214421e-01\n",
      " 6.11044700e-01 8.77043278e-01 6.08910047e-01 2.63568247e-01\n",
      " 8.57208446e-01 3.80987881e-01 2.42551126e-01 1.59433821e-01\n",
      " 2.56705260e-01 9.27182427e-01 9.82936706e-02 6.84092176e-02\n",
      " 4.94695205e-01 3.09829151e-01 3.29479516e-01 7.65975085e-01\n",
      " 2.11969892e-02 6.39259369e-01 7.76067678e-01 7.02976033e-03\n",
      " 3.46601953e-01 6.79075670e-01 4.22880879e-01 2.45165368e-01\n",
      " 4.97680916e-01 9.11089048e-01 4.93229921e-01 3.76240364e-01\n",
      " 1.87206650e-01 5.47377934e-01 8.53196761e-01 7.04889427e-01\n",
      " 6.14822586e-01 9.35022199e-01 2.90404101e-01 1.40825068e-01\n",
      " 5.09223655e-01 1.16757791e-03 4.44618986e-02 4.79768979e-01\n",
      " 5.22705358e-01 5.90338796e-01 4.39981072e-01 5.11414341e-01\n",
      " 1.16869322e-01 7.00332762e-01 1.52151393e-01 6.96872744e-01\n",
      " 5.03165754e-01 6.97763336e-01 9.32713480e-01 1.63847861e-01\n",
      " 9.04388373e-01 8.66139786e-01 6.87894642e-01 5.59639197e-01\n",
      " 5.26669463e-01 5.60554512e-01 2.46223070e-02 9.32266714e-01\n",
      " 1.44535857e-01 9.57535218e-01 5.27505748e-01 3.30795091e-02\n",
      " 9.72186576e-01 6.37197480e-01 6.90187900e-01 2.92584151e-02\n",
      " 6.89209946e-01 2.39519348e-01 9.44919745e-01 1.87641191e-01\n",
      " 7.70186447e-01 4.50792107e-01 3.44815100e-01 6.06286979e-01\n",
      " 9.98310915e-01 7.66300060e-01 9.77216129e-01 8.35392537e-01\n",
      " 1.43302386e-01 2.47127213e-01 4.96619705e-01 3.55194793e-01\n",
      " 8.47832510e-01 8.86286439e-01 3.19724555e-01 3.89407692e-01\n",
      " 9.10809962e-01 9.46300257e-01 8.42212018e-01 9.76313412e-01\n",
      " 3.63152679e-01 6.16442265e-01 1.09315277e-01 6.12159390e-01\n",
      " 6.85712921e-01 7.03000445e-01 7.65348685e-01 5.28622926e-01\n",
      " 6.79034679e-01 1.63783566e-01 8.07918312e-01 6.02774721e-01\n",
      " 3.81803547e-01 5.74741541e-01 9.79289622e-01 3.87427098e-01\n",
      " 1.84710602e-01 3.79923805e-01 7.25021095e-01 4.00256813e-01\n",
      " 9.82666084e-01 8.61369569e-02 5.59925247e-01 3.72401391e-01\n",
      " 1.76131687e-01 5.00070869e-01 9.25852931e-01 3.62965581e-03\n",
      " 3.51182716e-01 8.42506562e-01 9.88880147e-01 9.54329414e-01\n",
      " 3.60351708e-01 5.44371920e-01 5.25911713e-01 2.11893787e-01\n",
      " 5.03810720e-01 1.85815127e-01 8.20967423e-01 8.58145924e-01\n",
      " 2.64808475e-01 8.46271349e-01 6.44942481e-01 2.85356121e-02\n",
      " 3.78918815e-01 6.25943370e-01 6.81786010e-01 6.55657787e-01\n",
      " 7.14193744e-02 8.28317424e-01 3.48890472e-01 6.87687395e-02\n",
      " 5.64195096e-02 4.91861345e-01 7.98242121e-01 8.10423974e-01\n",
      " 4.38198142e-01 8.30739771e-01 4.37546660e-01 6.15323970e-02\n",
      " 5.20971310e-01 8.88662576e-01 2.59671385e-01 8.17377288e-01\n",
      " 5.41906137e-01 1.57796014e-01 7.88281477e-01 7.21000766e-01\n",
      " 4.87199427e-01 2.32173107e-01 1.34220135e-01 2.95050628e-01\n",
      " 6.64910995e-01 1.56342233e-01 2.98750884e-01 2.74327401e-01\n",
      " 6.26048663e-01 3.77218660e-01 4.10307491e-01 7.30563090e-01\n",
      " 1.32705732e-01 5.58763352e-01 3.40221328e-01 9.56253343e-01\n",
      " 8.89484191e-01 3.63706803e-01 5.67127418e-01 7.67711920e-01\n",
      " 6.58697447e-01 2.83634152e-01 7.93813546e-02 4.15630148e-01\n",
      " 2.53542877e-01 1.42666165e-01 2.27528774e-01 5.86215297e-01\n",
      " 4.43539685e-01 6.53380627e-02 2.85538926e-02 2.99592068e-01\n",
      " 3.88340536e-01 8.95393439e-01 5.69064339e-01 4.30041408e-01\n",
      " 3.12152115e-01 2.44109427e-01 9.94182963e-01 2.38383466e-01\n",
      " 3.41979416e-01 4.79248911e-01 3.84149532e-01 4.98934666e-01\n",
      " 6.46139916e-01 8.18812285e-01 6.19188862e-01 1.85511275e-01\n",
      " 2.09892261e-02 4.65006679e-01 3.06473129e-01 4.41202206e-01\n",
      " 4.19905595e-02 2.13644393e-01 1.19124368e-01 8.93291515e-01\n",
      " 2.97727481e-02 7.98623535e-02 3.11034484e-01 2.94243772e-01\n",
      " 6.26981743e-01 2.04131235e-01 5.62189669e-01 2.62866379e-01\n",
      " 9.55603759e-01 2.67113641e-01 4.16069959e-01 8.24366906e-02\n",
      " 7.06298450e-01 1.67395102e-01 1.92775131e-02 8.61682334e-01\n",
      " 6.65013646e-01 4.46707794e-01 6.38077328e-01 1.46213074e-01\n",
      " 2.06022835e-01 4.52250411e-01 7.27664746e-01 3.38343730e-01\n",
      " 6.14183938e-01 5.01213571e-01 8.92060731e-01 1.47422986e-01\n",
      " 8.84028664e-02 6.94967215e-01 4.33405369e-01 7.26031659e-02\n",
      " 5.99312956e-01 9.10511520e-01 1.32038846e-02 2.65813525e-01\n",
      " 9.23230211e-01 1.61497534e-01 8.02871369e-01 9.64247331e-01\n",
      " 6.72077879e-01 5.86223249e-01 7.35855234e-02 5.38298170e-01\n",
      " 7.52077287e-01 3.63234877e-01 5.24509595e-01 6.64617993e-01\n",
      " 5.32116520e-01 3.48025314e-01 4.47654801e-01 2.39231453e-01\n",
      " 9.73309144e-01 1.50668402e-01 1.91100388e-01 8.12877759e-01\n",
      " 9.86616069e-01 7.23738516e-03 3.69783778e-02 6.93352612e-02\n",
      " 7.44530464e-01 4.30156593e-01 9.67995867e-01 8.31888607e-01\n",
      " 7.16643374e-02 5.13109074e-01 8.88043745e-01 6.58176994e-01\n",
      " 8.15254979e-01 4.09697975e-01 5.92259351e-01 8.62311121e-01\n",
      " 8.71713702e-01 7.02236870e-01 4.00213604e-02 3.39054380e-01\n",
      " 6.65653636e-01 1.83197221e-01 8.11381045e-02 7.14183769e-02\n",
      " 7.56609465e-01 9.38280970e-01 5.38328649e-01 3.40501002e-01\n",
      " 3.38197264e-01 6.25057919e-01 3.15946671e-01 1.81796814e-01\n",
      " 2.91166523e-01 8.39236980e-01 6.31671880e-01 9.56347164e-01\n",
      " 1.44368054e-01 9.97485928e-01 1.15854460e-01 4.65432462e-01\n",
      " 3.67898910e-01 3.52082055e-03 7.62112677e-01 8.78677211e-02\n",
      " 8.95740541e-01 1.80852342e-02 7.03218565e-01 2.02058981e-01\n",
      " 8.63874216e-01 7.04449615e-01 4.77694996e-01 8.89823661e-01\n",
      " 6.89646576e-01 3.20554218e-01 8.49294335e-01 9.59213854e-01\n",
      " 6.47681912e-01 6.52183312e-01 9.52074175e-04 1.71520203e-01\n",
      " 5.39717389e-01 4.84450723e-03 9.47724801e-02 6.71926912e-02\n",
      " 1.67426463e-01 3.37333939e-01 9.16510908e-01 3.86671763e-01\n",
      " 3.47507243e-01 6.97734629e-01 3.98781087e-01 2.75403858e-01\n",
      " 6.65660663e-01 8.86993864e-02 1.80272804e-01 1.22435757e-01\n",
      " 4.38405738e-01 4.37943759e-01 5.55486336e-01 9.00797340e-01\n",
      " 1.25885163e-01 5.67144265e-01 7.35518348e-01 7.48698400e-01\n",
      " 5.29640705e-01 5.47199222e-01 1.56085224e-01 9.45797127e-01\n",
      " 1.28495994e-01 2.55727914e-01 3.00832960e-02 8.30668777e-01\n",
      " 2.43667654e-01 3.09670211e-02 6.21812139e-01 4.29286275e-02\n",
      " 1.66939704e-01 2.70749903e-01 3.73666053e-02 3.68647408e-01\n",
      " 8.65044452e-01 7.74317377e-01 9.94267864e-01 1.05061728e-01\n",
      " 3.52628110e-01 2.07715358e-01 6.27172038e-03 3.54799101e-01\n",
      " 4.65684592e-01 8.39162252e-01 5.98143462e-01 5.94579165e-01\n",
      " 7.68663830e-02 6.02781607e-01 5.12416252e-01 6.47357971e-01\n",
      " 8.53608553e-01 9.98869953e-01 2.18320992e-01 7.64976364e-01\n",
      " 6.95290761e-01 2.67766640e-01 6.77429433e-01 6.32660182e-01\n",
      " 3.09634253e-01 3.48846278e-02 6.47917513e-01 8.36424395e-01\n",
      " 2.94458293e-01 4.14676301e-01 5.89526477e-01 5.15076973e-01\n",
      " 8.95156894e-01 9.78269209e-01 3.17126146e-01 4.07944371e-01\n",
      " 6.46586579e-01 9.43017993e-01 1.33410248e-01 3.04220760e-01\n",
      " 7.78348514e-01 8.15099438e-01 7.11302183e-01 3.16071748e-01\n",
      " 4.92990045e-01 3.41001204e-02 1.90552861e-01 9.89999839e-01\n",
      " 9.73421713e-01 5.98575990e-02 3.86770174e-01 4.82005332e-01\n",
      " 2.32151762e-01 3.96081928e-01 7.38187564e-01 8.47883426e-01\n",
      " 4.83076603e-03 5.40039054e-01 6.54764292e-01 1.31906261e-01\n",
      " 4.08288771e-01 6.89702517e-01 8.15716555e-01 9.82375927e-01\n",
      " 4.22348271e-01 3.09692120e-01 8.93540082e-01 3.13067657e-01\n",
      " 8.92520487e-01 4.05457849e-01 9.76098538e-02 3.03493960e-01\n",
      " 3.52980754e-01 7.34335521e-01 5.47519013e-01 7.07899556e-01\n",
      " 9.11978347e-01 8.96198678e-01 8.71143072e-01 1.74197349e-01\n",
      " 4.37826875e-01 4.00826168e-01 6.35584631e-01 7.86607219e-01\n",
      " 9.31745976e-01 7.69958245e-01 7.91494959e-01 9.87477147e-01\n",
      " 2.41837916e-01 2.67794554e-01 3.39953615e-01 6.16198749e-02\n",
      " 9.29504931e-01 8.97234445e-01 3.83935655e-02 1.30284075e-01\n",
      " 1.22543879e-01 7.14346796e-01 3.42188086e-01 9.00395029e-02\n",
      " 9.32085955e-01 1.24176658e-01 3.59515565e-01 4.80260002e-01\n",
      " 5.90113884e-01 2.30324488e-01 7.76165797e-01 8.55151855e-02\n",
      " 7.63705017e-01 3.12091858e-01 8.53603070e-01 9.11207893e-01\n",
      " 6.62810838e-01 1.08559775e-01 4.09851928e-01 9.04250064e-01\n",
      " 5.47842533e-01 5.59070974e-01 7.58035559e-01 7.06055046e-02\n",
      " 7.54507133e-01 6.19363555e-01 8.09513328e-01 8.94900660e-01\n",
      " 1.74504257e-01 6.07585243e-01 7.13691800e-01 3.44951507e-01\n",
      " 3.73221413e-01 1.36928203e-01 4.23755913e-01 2.70582026e-02\n",
      " 6.67244220e-01 3.02656864e-01 9.53176556e-01 2.69388886e-01\n",
      " 8.84199837e-01 6.81165435e-01 7.10482367e-01 6.08914422e-01\n",
      " 2.17967135e-01 4.59223070e-02 2.77182811e-01 2.51415224e-01\n",
      " 2.73707457e-01 5.40696194e-01 8.15682995e-01 1.93645193e-01\n",
      " 6.01858452e-01 7.94406085e-01 4.98310072e-01 4.18779984e-01\n",
      " 2.28309102e-01 4.53599357e-01 8.50325515e-01 8.33875226e-01\n",
      " 7.19074160e-01 8.32420681e-01 8.41204979e-01 1.87973918e-01\n",
      " 7.19946068e-01 4.47837674e-01 1.23412128e-01 6.42562185e-01\n",
      " 5.15504915e-01 2.38474329e-01 7.25665706e-02 3.94321438e-01\n",
      " 5.79306038e-01 9.48802082e-01 5.25931359e-01 2.90192064e-02\n",
      " 1.03670181e-01 6.48772824e-01 7.62178377e-01 2.11881496e-03\n",
      " 4.88698639e-02 4.48044592e-01 8.66640628e-01 8.05870419e-01\n",
      " 2.36038724e-01 3.73851246e-01 5.71410172e-01 2.98443920e-01\n",
      " 5.46148372e-01 5.39685734e-01 7.38241000e-01 1.34346148e-01\n",
      " 6.79741717e-01 1.46866569e-01 4.38714081e-03 6.70362291e-01\n",
      " 7.78223817e-01 8.08067277e-02 3.58789695e-01 8.47345511e-01\n",
      " 6.36895494e-01 2.05603680e-01 1.69409284e-01 4.47837969e-01\n",
      " 2.61714218e-01 7.86861374e-01 7.49445603e-01 5.03627640e-01\n",
      " 5.72522097e-01 2.90930237e-01 3.13770777e-01 5.17220694e-01\n",
      " 5.86647790e-01 1.62991753e-01 9.59951949e-02 1.76709874e-02\n",
      " 8.78035847e-01 5.01507694e-01 4.64176281e-02 4.74367499e-02\n",
      " 9.84464372e-01 8.50934532e-02 8.86287386e-01 3.46605558e-01\n",
      " 4.35782832e-01 4.79120320e-02 5.34150963e-01 9.59694115e-01\n",
      " 5.20717870e-01 7.74170403e-01 7.56371276e-01 3.56031898e-01\n",
      " 4.28891533e-01 3.84597413e-01 2.88568290e-01 1.48041490e-01\n",
      " 8.72728883e-01 9.73669549e-01 8.61947883e-01 8.49738647e-01\n",
      " 1.55441536e-01 5.11308116e-01 7.52716941e-01 5.94271902e-01\n",
      " 5.25679163e-01 7.51018621e-02 6.65707192e-01 9.94598510e-01\n",
      " 7.94050990e-01 6.43915850e-02 9.61156864e-01 1.02827367e-01\n",
      " 1.46918133e-01 9.32561955e-01 8.77973476e-01 8.46878465e-01\n",
      " 3.44704859e-01 9.06266723e-01 8.10664291e-01 8.07696368e-01\n",
      " 6.08749612e-01 6.07166327e-01 7.57562873e-01 3.80121838e-01\n",
      " 7.12069677e-01 2.74586895e-02 1.21392916e-02 5.33788961e-01\n",
      " 3.23913367e-01 8.37634321e-01 5.70113671e-01 2.21623049e-02\n",
      " 9.68887048e-01 4.92200205e-01 3.93210536e-01 6.99780786e-01\n",
      " 4.64331276e-01 1.24670350e-01 4.75096757e-02 4.66221571e-01\n",
      " 3.15418974e-01 2.70294641e-01 3.30767573e-01 6.20945104e-01\n",
      " 6.28543004e-01 2.90934763e-01 1.44210059e-01 5.84242676e-01\n",
      " 3.88545331e-01 2.72095935e-02 7.07983106e-01 1.47278679e-01\n",
      " 2.33735862e-02 3.07648034e-01 9.17235252e-01 7.94853049e-01\n",
      " 2.78567287e-01 8.38946027e-01 7.99211475e-01 7.18592030e-01\n",
      " 6.91797630e-01 6.44444423e-01 2.84271668e-01 5.68902503e-01\n",
      " 8.57948655e-01 3.32161582e-01 9.69578723e-01 1.11514837e-01\n",
      " 9.41112710e-01 8.18113176e-01 3.00759089e-01 9.65136964e-01\n",
      " 2.18936340e-01 1.17747395e-01 7.44717005e-01 1.39812779e-01\n",
      " 6.40247080e-01 2.44628474e-01 8.80205749e-01 7.50423030e-03\n",
      " 4.83589055e-01 2.78753376e-01 2.04938415e-01 3.17294862e-01\n",
      " 3.45511631e-02 8.80795330e-01 1.08368208e-01 5.44399717e-01\n",
      " 7.84460646e-03 5.48944557e-01 9.65379391e-01 8.46381244e-01\n",
      " 7.63571044e-01 6.20954813e-01 1.83953225e-01 4.34235744e-02\n",
      " 4.75695540e-01 5.03017806e-01 9.16407640e-01 5.66476307e-01\n",
      " 2.24604863e-01 4.63222828e-01 2.74166790e-01 1.57011808e-01\n",
      " 3.32102601e-01 7.57711939e-01 5.11421452e-01 9.50321343e-01\n",
      " 4.56088664e-01 2.85415065e-01 6.77804828e-01 9.39358905e-01\n",
      " 4.15283907e-01 4.99286844e-01 8.02891563e-01 2.35738181e-01\n",
      " 6.12664923e-01 3.00454299e-01 3.62844746e-01 3.37907462e-01\n",
      " 2.75637865e-02 3.91006434e-01 2.18747802e-01 2.17226101e-01\n",
      " 5.65814138e-01 1.42539529e-01 7.49372301e-01 3.45389066e-02\n",
      " 7.02909057e-01 9.22355411e-01 8.45439738e-01 6.27604826e-02\n",
      " 3.26938554e-01 3.34549697e-01 4.39308423e-01 7.18662343e-01\n",
      " 8.28455211e-01 9.00570847e-01 9.51251080e-01 7.86934947e-02\n",
      " 6.71304687e-01 6.95821098e-01 3.05866599e-01 3.57667884e-01\n",
      " 5.34489955e-01 7.12822752e-01 2.63008302e-02 8.32121189e-01\n",
      " 1.37956809e-01 9.09997238e-01 9.82962547e-01 8.60219054e-01\n",
      " 8.86156680e-01 2.73777420e-01 6.85999882e-01 5.73006008e-01\n",
      " 9.10716666e-01 6.99004529e-01 2.56757094e-01 5.83008272e-01\n",
      " 5.60684944e-01 6.46076644e-01 7.78538118e-02 2.73137553e-01\n",
      " 5.07751405e-01 1.73159575e-01 7.14936450e-01 2.18074513e-01\n",
      " 9.17342224e-01 9.65824770e-01 8.50215731e-01 6.28698942e-01\n",
      " 1.94771954e-02 2.50711668e-01 4.87620640e-01 5.91239787e-01\n",
      " 5.58927609e-01 8.27424029e-01 5.71895262e-01 9.42992717e-01\n",
      " 6.17633360e-01 9.75319020e-01 4.94951976e-01 6.66375221e-01\n",
      " 7.18049247e-01 8.69738947e-01 8.38130590e-01 7.80626011e-01\n",
      " 7.48970326e-01 9.01090978e-01 4.39897227e-01 7.27974014e-01\n",
      " 5.81621698e-03 8.16425204e-01 2.84544542e-01 7.62735256e-01\n",
      " 8.53787479e-01 8.30073098e-01 9.04275966e-01 7.75582290e-01\n",
      " 8.58456846e-01 6.59676056e-01 2.18438892e-01 3.26034419e-01\n",
      " 9.43862644e-01 7.82381548e-01 8.18660732e-01 1.80521891e-01\n",
      " 6.41856682e-01 2.46142639e-02 7.68494795e-01 2.12280078e-01\n",
      " 9.32809825e-02 3.18195480e-01 2.15778733e-01 1.23368612e-01\n",
      " 3.09874372e-01 7.75033182e-02 6.00410621e-01 1.87722378e-01\n",
      " 7.61012781e-01 3.02002449e-01 3.95347019e-01 5.10231994e-01\n",
      " 6.12247758e-01 2.71739909e-01 2.77068260e-01 3.65034968e-01\n",
      " 8.55962259e-01 8.14928680e-01 8.82978170e-01 7.93161647e-01\n",
      " 3.81829367e-01 8.29923721e-01 4.42978267e-02 2.60753611e-01\n",
      " 4.77001822e-02 4.02094446e-01 9.16878784e-01 6.70865222e-01\n",
      " 3.86413456e-01 4.31812327e-01 8.82223182e-01 9.21032340e-01\n",
      " 5.54055732e-01 2.98936065e-01 4.26377155e-01 8.89928492e-01\n",
      " 4.54611005e-01 7.43369085e-01 2.90109699e-01 4.49286638e-02\n",
      " 4.51106602e-01 1.31881929e-01 2.35946298e-03 9.42502681e-01\n",
      " 5.83567070e-02 5.66432775e-01 7.08464491e-01 2.63519050e-01\n",
      " 6.45063956e-01 5.25694551e-01 3.72949856e-01 1.93139567e-02\n",
      " 6.00365990e-01 5.35311667e-01 3.51601387e-01 9.63418037e-01\n",
      " 3.78497521e-01 8.37604450e-01 9.50166819e-01 8.61835071e-01\n",
      " 2.16869888e-02 5.13395326e-01 2.00186636e-01 4.48588287e-01\n",
      " 5.18738136e-02 6.98027966e-01 3.51806679e-01 8.23193493e-01\n",
      " 7.18761136e-01 7.87891466e-01 1.91678939e-01 3.13515442e-01\n",
      " 9.31663312e-01 9.12017898e-02 1.62345852e-01 2.04120597e-01\n",
      " 8.12908957e-01 7.43277318e-01 3.77541431e-01 8.06743184e-02\n",
      " 3.51630003e-01 7.14151492e-01 3.92849931e-01 2.63768327e-01\n",
      " 7.92725972e-01 7.29630226e-01 9.31441067e-01 4.90812198e-01\n",
      " 9.04482070e-01 6.72028524e-03 9.96901650e-01 2.11028510e-01\n",
      " 3.10749509e-01 5.87792765e-01 6.10788748e-01 8.44632515e-01\n",
      " 1.38243547e-01 6.24151396e-01 4.68158653e-01 1.64830095e-01\n",
      " 9.67842921e-01 2.89416113e-01 4.41928294e-01 8.15101071e-01\n",
      " 9.11901119e-01 8.21375652e-01 3.76591048e-01 6.43487587e-01\n",
      " 8.39388019e-01 5.51925329e-01 7.91632561e-01 3.67949951e-01\n",
      " 5.01423158e-01 4.67402154e-01 5.91600651e-01 2.84443352e-01\n",
      " 2.78662046e-01 5.04518061e-01 1.49905385e-01 2.59738629e-01\n",
      " 1.09978680e-01 8.46868401e-01 5.59156066e-01 1.03168133e-02\n",
      " 6.42915767e-01 8.24409967e-01 2.43076127e-01 4.78651919e-01\n",
      " 5.96116870e-01 7.54182435e-01 9.81155285e-01 1.98500340e-01\n",
      " 8.89319707e-01 7.06494554e-01 9.81988189e-01 7.86043851e-01\n",
      " 9.07929335e-01 5.99344811e-01 5.01807003e-01 5.62269484e-01\n",
      " 6.59270328e-01 7.82803131e-01 4.55352551e-01 2.28159619e-01\n",
      " 7.37043355e-01 5.57873593e-01 8.63999024e-01 6.45086685e-01\n",
      " 1.98910526e-01 7.53496777e-01 1.50853703e-01 5.77827393e-01\n",
      " 2.01003432e-01 9.44494289e-01 8.05749171e-01 2.87191720e-01\n",
      " 4.72205362e-02 4.63080809e-01 6.32631088e-01 6.04949505e-01\n",
      " 9.40825304e-04 5.65926475e-01 3.76810152e-01 9.85792047e-01\n",
      " 4.27982307e-01 9.01327062e-01 1.95316391e-02 6.67781191e-01\n",
      " 5.28662866e-01 7.23117546e-01 1.83215894e-01 4.69615707e-01]\n"
     ]
    }
   ],
   "source": [
    "print(a) #prints 1000 random nos b/t 0 and 1"
   ]
  },
  {
   "cell_type": "code",
   "execution_count": 44,
   "metadata": {},
   "outputs": [
    {
     "data": {
      "text/plain": [
       "(array([112.,  89.,  96., 108.,  82., 103., 103.,  95., 112., 100.]),\n",
       " array([9.40825304e-04, 1.00733738e-01, 2.00526651e-01, 3.00319564e-01,\n",
       "        4.00112477e-01, 4.99905389e-01, 5.99698302e-01, 6.99491215e-01,\n",
       "        7.99284128e-01, 8.99077041e-01, 9.98869953e-01]),\n",
       " <BarContainer object of 10 artists>)"
      ]
     },
     "execution_count": 44,
     "metadata": {},
     "output_type": "execute_result"
    },
    {
     "data": {
      "image/png": "[encoded data removed]",
      "text/plain": [
       "<Figure size 640x480 with 1 Axes>"
      ]
     },
     "metadata": {},
     "output_type": "display_data"
    }
   ],
   "source": [
    "ptl.hist(a) #plots a hiostogram"
   ]
  },
  {
   "cell_type": "code",
   "execution_count": 45,
   "metadata": {},
   "outputs": [
    {
     "data": {
      "text/plain": [
       "(array([18.,  8., 18., 10., 14.,  4., 10., 14., 10.,  6.,  7.,  5.,  9.,\n",
       "        10., 14.,  9., 10.,  7., 11.,  7.,  8., 12.,  5.,  8.,  9.,  8.,\n",
       "        13., 13.,  9., 11., 13., 14.,  5., 11., 11., 12.,  9., 13., 13.,\n",
       "         7.,  8.,  6.,  7., 12.,  9.,  7., 10.,  5.,  5., 13., 12., 10.,\n",
       "        13.,  9., 11.,  9., 13.,  8.,  7., 11., 12., 11., 11.,  8., 17.,\n",
       "         6., 11.,  8.,  7., 12., 13., 13.,  6.,  7.,  7., 11., 12.,  9.,\n",
       "         8.,  9.,  6., 16.,  7., 15., 14., 13., 10.,  7., 10., 14., 11.,\n",
       "        13.,  6., 10., 11.,  9., 12.,  9., 11.,  8.]),\n",
       " array([9.40825304e-04, 1.09201166e-02, 2.08994079e-02, 3.08786991e-02,\n",
       "        4.08579904e-02, 5.08372817e-02, 6.08165730e-02, 7.07958643e-02,\n",
       "        8.07751556e-02, 9.07544468e-02, 1.00733738e-01, 1.10713029e-01,\n",
       "        1.20692321e-01, 1.30671612e-01, 1.40650903e-01, 1.50630195e-01,\n",
       "        1.60609486e-01, 1.70588777e-01, 1.80568068e-01, 1.90547360e-01,\n",
       "        2.00526651e-01, 2.10505942e-01, 2.20485233e-01, 2.30464525e-01,\n",
       "        2.40443816e-01, 2.50423107e-01, 2.60402399e-01, 2.70381690e-01,\n",
       "        2.80360981e-01, 2.90340272e-01, 3.00319564e-01, 3.10298855e-01,\n",
       "        3.20278146e-01, 3.30257438e-01, 3.40236729e-01, 3.50216020e-01,\n",
       "        3.60195311e-01, 3.70174603e-01, 3.80153894e-01, 3.90133185e-01,\n",
       "        4.00112477e-01, 4.10091768e-01, 4.20071059e-01, 4.30050350e-01,\n",
       "        4.40029642e-01, 4.50008933e-01, 4.59988224e-01, 4.69967515e-01,\n",
       "        4.79946807e-01, 4.89926098e-01, 4.99905389e-01, 5.09884681e-01,\n",
       "        5.19863972e-01, 5.29843263e-01, 5.39822554e-01, 5.49801846e-01,\n",
       "        5.59781137e-01, 5.69760428e-01, 5.79739720e-01, 5.89719011e-01,\n",
       "        5.99698302e-01, 6.09677593e-01, 6.19656885e-01, 6.29636176e-01,\n",
       "        6.39615467e-01, 6.49594759e-01, 6.59574050e-01, 6.69553341e-01,\n",
       "        6.79532632e-01, 6.89511924e-01, 6.99491215e-01, 7.09470506e-01,\n",
       "        7.19449798e-01, 7.29429089e-01, 7.39408380e-01, 7.49387671e-01,\n",
       "        7.59366963e-01, 7.69346254e-01, 7.79325545e-01, 7.89304836e-01,\n",
       "        7.99284128e-01, 8.09263419e-01, 8.19242710e-01, 8.29222002e-01,\n",
       "        8.39201293e-01, 8.49180584e-01, 8.59159875e-01, 8.69139167e-01,\n",
       "        8.79118458e-01, 8.89097749e-01, 8.99077041e-01, 9.09056332e-01,\n",
       "        9.19035623e-01, 9.29014914e-01, 9.38994206e-01, 9.48973497e-01,\n",
       "        9.58952788e-01, 9.68932080e-01, 9.78911371e-01, 9.88890662e-01,\n",
       "        9.98869953e-01]),\n",
       " <BarContainer object of 100 artists>)"
      ]
     },
     "execution_count": 45,
     "metadata": {},
     "output_type": "execute_result"
    },
    {
     "data": {
      "image/png": "[encoded data removed]",
      "text/plain": [
       "<Figure size 640x480 with 1 Axes>"
      ]
     },
     "metadata": {},
     "output_type": "display_data"
    }
   ],
   "source": [
    "ptl.hist(a, bins = 100)"
   ]
  },
  {
   "cell_type": "code",
   "execution_count": 47,
   "metadata": {},
   "outputs": [
    {
     "name": "stdout",
     "output_type": "stream",
     "text": [
      "[-1.9562197  -1.53315053 -1.24913828 ... -0.815137    2.03240379\n",
      "  1.79010199]\n"
     ]
    }
   ],
   "source": [
    "b = np.random.randn(10000) #generates normal distribution for 10000 with mean = 0\n",
    "print(b)"
   ]
  },
  {
   "cell_type": "code",
   "execution_count": 48,
   "metadata": {},
   "outputs": [
    {
     "data": {
      "text/plain": [
       "(array([  3.,   1.,   1.,   0.,   0.,   1.,   0.,   0.,   1.,   1.,   2.,\n",
       "          2.,   1.,   0.,   0.,   1.,   0.,   1.,   3.,   1.,   1.,   2.,\n",
       "          3.,   4.,   4.,   7.,   7.,   7.,   5.,  12.,   8.,   9.,   9.,\n",
       "          7.,  15.,  14.,  12.,   9.,  12.,  14.,  15.,  19.,  24.,  20.,\n",
       "         22.,  28.,  14.,  28.,  18.,  34.,  37.,  34.,  38.,  34.,  43.,\n",
       "         45.,  55.,  69.,  50.,  56.,  54.,  76.,  76.,  54.,  63.,  75.,\n",
       "         76., 100.,  84.,  97.,  85.,  90.,  93., 110., 113., 113.,  88.,\n",
       "        125., 117., 105., 133., 121., 137., 123., 151., 132., 122., 132.,\n",
       "        139., 124., 143., 142., 142., 138., 129., 139., 164., 123., 142.,\n",
       "        132., 146., 161., 138., 133., 132., 127., 126., 143., 129., 143.,\n",
       "        125., 156., 131., 139., 112., 109., 103., 104., 112., 106., 118.,\n",
       "        106., 110.,  89.,  86., 101.,  70.,  73.,  70.,  80.,  61.,  66.,\n",
       "         75.,  65.,  61.,  53.,  64.,  44.,  43.,  39.,  38.,  37.,  40.,\n",
       "         43.,  28.,  31.,  21.,  31.,  22.,  22.,  17.,  23.,  20.,  15.,\n",
       "         16.,  13.,  17.,  11.,  13.,   8.,  15.,   9.,   8.,   9.,   7.,\n",
       "          6.,   7.,   7.,   6.,   7.,   3.,   7.,   0.,   3.,   4.,   0.,\n",
       "          3.,   4.,   3.,   1.,   2.,   0.,   3.,   0.,   1.,   0.,   0.,\n",
       "          0.,   0.,   1.,   0.,   0.,   2.,   0.,   0.,   0.,   0.,   0.,\n",
       "          1.,   1.]),\n",
       " array([-3.56761015, -3.53099946, -3.49438877, -3.45777808, -3.42116739,\n",
       "        -3.3845567 , -3.34794601, -3.31133532, -3.27472463, -3.23811395,\n",
       "        -3.20150326, -3.16489257, -3.12828188, -3.09167119, -3.0550605 ,\n",
       "        -3.01844981, -2.98183912, -2.94522843, -2.90861774, -2.87200705,\n",
       "        -2.83539636, -2.79878567, -2.76217498, -2.72556429, -2.6889536 ,\n",
       "        -2.65234291, -2.61573223, -2.57912154, -2.54251085, -2.50590016,\n",
       "        -2.46928947, -2.43267878, -2.39606809, -2.3594574 , -2.32284671,\n",
       "        -2.28623602, -2.24962533, -2.21301464, -2.17640395, -2.13979326,\n",
       "        -2.10318257, -2.06657188, -2.02996119, -1.99335051, -1.95673982,\n",
       "        -1.92012913, -1.88351844, -1.84690775, -1.81029706, -1.77368637,\n",
       "        -1.73707568, -1.70046499, -1.6638543 , -1.62724361, -1.59063292,\n",
       "        -1.55402223, -1.51741154, -1.48080085, -1.44419016, -1.40757948,\n",
       "        -1.37096879, -1.3343581 , -1.29774741, -1.26113672, -1.22452603,\n",
       "        -1.18791534, -1.15130465, -1.11469396, -1.07808327, -1.04147258,\n",
       "        -1.00486189, -0.9682512 , -0.93164051, -0.89502982, -0.85841913,\n",
       "        -0.82180844, -0.78519776, -0.74858707, -0.71197638, -0.67536569,\n",
       "        -0.638755  , -0.60214431, -0.56553362, -0.52892293, -0.49231224,\n",
       "        -0.45570155, -0.41909086, -0.38248017, -0.34586948, -0.30925879,\n",
       "        -0.2726481 , -0.23603741, -0.19942672, -0.16281604, -0.12620535,\n",
       "        -0.08959466, -0.05298397, -0.01637328,  0.02023741,  0.0568481 ,\n",
       "         0.09345879,  0.13006948,  0.16668017,  0.20329086,  0.23990155,\n",
       "         0.27651224,  0.31312293,  0.34973362,  0.38634431,  0.422955  ,\n",
       "         0.45956568,  0.49617637,  0.53278706,  0.56939775,  0.60600844,\n",
       "         0.64261913,  0.67922982,  0.71584051,  0.7524512 ,  0.78906189,\n",
       "         0.82567258,  0.86228327,  0.89889396,  0.93550465,  0.97211534,\n",
       "         1.00872603,  1.04533672,  1.0819474 ,  1.11855809,  1.15516878,\n",
       "         1.19177947,  1.22839016,  1.26500085,  1.30161154,  1.33822223,\n",
       "         1.37483292,  1.41144361,  1.4480543 ,  1.48466499,  1.52127568,\n",
       "         1.55788637,  1.59449706,  1.63110775,  1.66771844,  1.70432912,\n",
       "         1.74093981,  1.7775505 ,  1.81416119,  1.85077188,  1.88738257,\n",
       "         1.92399326,  1.96060395,  1.99721464,  2.03382533,  2.07043602,\n",
       "         2.10704671,  2.1436574 ,  2.18026809,  2.21687878,  2.25348947,\n",
       "         2.29010016,  2.32671084,  2.36332153,  2.39993222,  2.43654291,\n",
       "         2.4731536 ,  2.50976429,  2.54637498,  2.58298567,  2.61959636,\n",
       "         2.65620705,  2.69281774,  2.72942843,  2.76603912,  2.80264981,\n",
       "         2.8392605 ,  2.87587119,  2.91248187,  2.94909256,  2.98570325,\n",
       "         3.02231394,  3.05892463,  3.09553532,  3.13214601,  3.1687567 ,\n",
       "         3.20536739,  3.24197808,  3.27858877,  3.31519946,  3.35181015,\n",
       "         3.38842084,  3.42503153,  3.46164222,  3.49825291,  3.53486359,\n",
       "         3.57147428,  3.60808497,  3.64469566,  3.68130635,  3.71791704,\n",
       "         3.75452773]),\n",
       " <BarContainer object of 200 artists>)"
      ]
     },
     "execution_count": 48,
     "metadata": {},
     "output_type": "execute_result"
    },
    {
     "data": {
      "image/png": "[encoded data removed]",
      "text/plain": [
       "<Figure size 640x480 with 1 Axes>"
      ]
     },
     "metadata": {},
     "output_type": "display_data"
    }
   ],
   "source": [
    "ptl.hist(b, bins = 200)"
   ]
  },
  {
   "cell_type": "code",
   "execution_count": 55,
   "metadata": {},
   "outputs": [
    {
     "data": {
      "text/plain": [
       "(array([ 2.,  4.,  8., 14., 15., 20., 12., 14.,  7.,  4.]),\n",
       " array([-2.54242346, -2.0699644 , -1.59750534, -1.12504627, -0.65258721,\n",
       "        -0.18012815,  0.29233091,  0.76478998,  1.23724904,  1.7097081 ,\n",
       "         2.18216716]),\n",
       " <BarContainer object of 10 artists>)"
      ]
     },
     "execution_count": 55,
     "metadata": {},
     "output_type": "execute_result"
    },
    {
     "data": {
      "image/png": "[encoded data removed]",
      "text/plain": [
       "<Figure size 640x480 with 1 Axes>"
      ]
     },
     "metadata": {},
     "output_type": "display_data"
    }
   ],
   "source": [
    "ptl.hist(np.random.randn(100), bins = 10)"
   ]
  },
  {
   "cell_type": "code",
   "execution_count": 57,
   "metadata": {},
   "outputs": [
    {
     "name": "stdout",
     "output_type": "stream",
     "text": [
      "[[0.94849479 0.49328402 0.80614821]\n",
      " [0.13728775 0.92894744 0.0607378 ]]\n",
      "dimension 2\n"
     ]
    }
   ],
   "source": [
    "c = np.random.rand(2,3) #creates a 2d array of 2x3 matrix\n",
    "print(c)\n",
    "print(\"dimension\", c.ndim)"
   ]
  },
  {
   "cell_type": "code",
   "execution_count": 58,
   "metadata": {},
   "outputs": [
    {
     "data": {
      "text/plain": [
       "'2 3d array with 3 2d array\\neach 2d array has 4 1d array\\neach 1d array has 2 elements'"
      ]
     },
     "execution_count": 58,
     "metadata": {},
     "output_type": "execute_result"
    }
   ],
   "source": [
    "c = np.random.rand(2,3,4,2) #4d array\n",
    "\"\"\"2 3d array with 3 2d array\n",
    "each 2d array has 4 1d array\n",
    "each 1d array has 2 elements\"\"\""
   ]
  },
  {
   "cell_type": "code",
   "execution_count": 59,
   "metadata": {},
   "outputs": [],
   "source": [
    "d = np.arange(100).reshape(4,25) #100 elements in 4x25 matrix"
   ]
  },
  {
   "cell_type": "code",
   "execution_count": 60,
   "metadata": {},
   "outputs": [
    {
     "data": {
      "text/plain": [
       "(4, 25)"
      ]
     },
     "execution_count": 60,
     "metadata": {},
     "output_type": "execute_result"
    }
   ],
   "source": [
    "d.shape #tells the shape of our matrix(array)"
   ]
  },
  {
   "cell_type": "markdown",
   "metadata": {},
   "source": [
    "Slicing"
   ]
  },
  {
   "cell_type": "code",
   "execution_count": 61,
   "metadata": {},
   "outputs": [],
   "source": [
    "a = np.arange(100)"
   ]
  },
  {
   "cell_type": "code",
   "execution_count": 62,
   "metadata": {},
   "outputs": [
    {
     "name": "stdout",
     "output_type": "stream",
     "text": [
      "[3 4 5 6 7 8 9]\n"
     ]
    }
   ],
   "source": [
    "b = a[3:10]\n",
    "print(b)"
   ]
  },
  {
   "cell_type": "code",
   "execution_count": 64,
   "metadata": {},
   "outputs": [
    {
     "name": "stdout",
     "output_type": "stream",
     "text": [
      "[-1200     4     5     6     7     8     9]\n"
     ]
    }
   ],
   "source": [
    "b[0] = -1200\n",
    "print(b)"
   ]
  },
  {
   "cell_type": "code",
   "execution_count": 66,
   "metadata": {},
   "outputs": [
    {
     "name": "stdout",
     "output_type": "stream",
     "text": [
      "[    0     1     2 -1200     4     5     6     7     8     9    10    11\n",
      "    12    13    14    15    16    17    18    19    20    21    22    23\n",
      "    24    25    26    27    28    29    30    31    32    33    34    35\n",
      "    36    37    38    39    40    41    42    43    44    45    46    47\n",
      "    48    49    50    51    52    53    54    55    56    57    58    59\n",
      "    60    61    62    63    64    65    66    67    68    69    70    71\n",
      "    72    73    74    75    76    77    78    79    80    81    82    83\n",
      "    84    85    86    87    88    89    90    91    92    93    94    95\n",
      "    96    97    98    99]\n"
     ]
    }
   ],
   "source": [
    "print(a) #we notice that a is also changed due to changing b"
   ]
  },
  {
   "cell_type": "code",
   "execution_count": 67,
   "metadata": {},
   "outputs": [
    {
     "data": {
      "text/plain": [
       "array([ 0,  5, 10, 15, 20, 25, 30, 35, 40, 45, 50, 55, 60, 65, 70, 75, 80,\n",
       "       85, 90, 95])"
      ]
     },
     "execution_count": 67,
     "metadata": {},
     "output_type": "execute_result"
    }
   ],
   "source": [
    "a[::5] #prints the array start to end with step size = 5"
   ]
  },
  {
   "cell_type": "code",
   "execution_count": 68,
   "metadata": {},
   "outputs": [
    {
     "data": {
      "text/plain": [
       "array([99, 94, 89, 84, 79, 74, 69, 64, 59, 54, 49, 44, 39, 34, 29, 24, 19,\n",
       "       14,  9,  4])"
      ]
     },
     "execution_count": 68,
     "metadata": {},
     "output_type": "execute_result"
    }
   ],
   "source": [
    "a[::-5] #prints the array end to start with step size = 5"
   ]
  },
  {
   "cell_type": "code",
   "execution_count": 69,
   "metadata": {},
   "outputs": [
    {
     "name": "stdout",
     "output_type": "stream",
     "text": [
      "[    0     1     2 -1200     4     5     6     7     8     9    10    11\n",
      "    12    13    14    15    16    17    18    19    20    21    22    23\n",
      "    24    25    26    27    28    29    30    31    32    33    34    35\n",
      "    36    37    38    39    40    41    42    43    44    45    46    47\n",
      "    48    49    50    51    52    53    54    55    56    57    58    59\n",
      "    60    61    62    63    64    65    66    67    68    69    70    71\n",
      "    72    73    74    75    76    77    78    79    80    81    82    83\n",
      "    84    85    86    87    88    89    90    91    92    93    94    95\n",
      "    96    97    98    99]\n"
     ]
    }
   ],
   "source": [
    "print(a)"
   ]
  },
  {
   "cell_type": "code",
   "execution_count": 70,
   "metadata": {},
   "outputs": [
    {
     "name": "stdout",
     "output_type": "stream",
     "text": [
      "[ 0  1  2  3  4  5  6  7  8  9 10 11 12 13 14 15 16 17 18 19 20 21 22 23\n",
      " 24 25 26 27 28 29 30 31 32 33 34 35 36 37 38 39 40 41 42 43 44 45 46 47\n",
      " 48 49 50 51 52 53 54 55 56 57 58 59 60 61 62 63 64 65 66 67 68 69 70 71\n",
      " 72 73 74 75 76 77 78 79 80 81 82 83 84 85 86 87 88 89 90 91 92 93 94 95\n",
      " 96 97 98 99]\n"
     ]
    }
   ],
   "source": [
    "a[3] = 3\n",
    "print(a)"
   ]
  },
  {
   "cell_type": "code",
   "execution_count": 88,
   "metadata": {},
   "outputs": [
    {
     "name": "stdout",
     "output_type": "stream",
     "text": [
      "[ 0  1  2  3  4  5  6  7  8  9 10 11 12 13 14 15 16 17 18 19 20 21 22 23\n",
      " 24 25 26 27 28 29 30 31 32 33 34 35 36 37 38 39 40 41 42 43 44 45 46 47\n",
      " 48 49 50 51 52 53 54 55 56 57 58 59 60 61 62 63 64 65 66 67 68 69 70 71\n",
      " 72 73 74 75 76 77 78 79 80 81 82 83 84 85 86 87 88 89 90 91 92 93 94 95\n",
      " 96 97 98 99]\n"
     ]
    }
   ],
   "source": [
    "print(a)"
   ]
  },
  {
   "cell_type": "code",
   "execution_count": 91,
   "metadata": {},
   "outputs": [],
   "source": [
    "a[7] = -69"
   ]
  },
  {
   "cell_type": "markdown",
   "metadata": {},
   "source": [
    "write a function to find the index of an element in the array."
   ]
  },
  {
   "cell_type": "code",
   "execution_count": 94,
   "metadata": {},
   "outputs": [],
   "source": [
    "y = 0\n",
    "s = int(input(\"Enter the idxCheck no\"))\n",
    "for z in a:\n",
    "    if(z!=s):\n",
    "        y+=1\n",
    "    else:\n",
    "        print(y)"
   ]
  },
  {
   "cell_type": "code",
   "execution_count": 99,
   "metadata": {},
   "outputs": [
    {
     "name": "stdout",
     "output_type": "stream",
     "text": [
      "[[ 1.  8. 10.  3.]\n",
      " [ 7.  1.  7.  1.]\n",
      " [ 8.  0.  1.  7.]\n",
      " [ 1.  6.  2.  2.]\n",
      " [ 3. 10.  1.  1.]]\n"
     ]
    }
   ],
   "source": [
    "\"\"\"\n",
    "this code will generate a random 5x4 matrix between 0 and 1;\n",
    "then multiply it by 10 and round it off, making the ourputs as ints\n",
    "\"\"\"\n",
    "a = np.round(10*np.random.rand(5,4))\n",
    "print(a)"
   ]
  },
  {
   "cell_type": "code",
   "execution_count": 100,
   "metadata": {},
   "outputs": [
    {
     "data": {
      "text/plain": [
       "7.0"
      ]
     },
     "execution_count": 100,
     "metadata": {},
     "output_type": "execute_result"
    }
   ],
   "source": [
    "a[1,2]#2nd row 3rd column"
   ]
  },
  {
   "cell_type": "code",
   "execution_count": 101,
   "metadata": {},
   "outputs": [
    {
     "data": {
      "text/plain": [
       "array([7., 1., 7., 1.])"
      ]
     },
     "execution_count": 101,
     "metadata": {},
     "output_type": "execute_result"
    }
   ],
   "source": [
    "a[1,:] #2nd row"
   ]
  },
  {
   "cell_type": "code",
   "execution_count": 102,
   "metadata": {},
   "outputs": [
    {
     "data": {
      "text/plain": [
       "array([ 8.,  1.,  0.,  6., 10.])"
      ]
     },
     "execution_count": 102,
     "metadata": {},
     "output_type": "execute_result"
    }
   ],
   "source": [
    "a[:,1] #column 2"
   ]
  },
  {
   "cell_type": "code",
   "execution_count": 103,
   "metadata": {},
   "outputs": [
    {
     "data": {
      "text/plain": [
       "array([[7., 1.],\n",
       "       [1., 7.]])"
      ]
     },
     "execution_count": 103,
     "metadata": {},
     "output_type": "execute_result"
    }
   ],
   "source": [
    "a[1:3, 2:4] \n",
    "#row 1 to 3(not including 3); col 2 to 4(not including 4)"
   ]
  },
  {
   "cell_type": "code",
   "execution_count": 104,
   "metadata": {},
   "outputs": [
    {
     "data": {
      "text/plain": [
       "array([[ 1.,  7.,  8.,  1.,  3.],\n",
       "       [ 8.,  1.,  0.,  6., 10.],\n",
       "       [10.,  7.,  1.,  2.,  1.],\n",
       "       [ 3.,  1.,  7.,  2.,  1.]])"
      ]
     },
     "execution_count": 104,
     "metadata": {},
     "output_type": "execute_result"
    }
   ],
   "source": [
    "a.T #transpose of A"
   ]
  },
  {
   "cell_type": "code",
   "execution_count": 105,
   "metadata": {},
   "outputs": [],
   "source": [
    "#linear algebra library\n",
    "import numpy.linalg as la"
   ]
  },
  {
   "cell_type": "code",
   "execution_count": 106,
   "metadata": {},
   "outputs": [
    {
     "data": {
      "text/plain": [
       "array([[-1.20041994,  0.12976468,  0.96997207],\n",
       "       [ 0.46746661, -2.82315573,  2.67117045],\n",
       "       [ 0.88176983,  2.93850998, -2.83641775]])"
      ]
     },
     "execution_count": 106,
     "metadata": {},
     "output_type": "execute_result"
    }
   ],
   "source": [
    "la.inv(np.random.rand(3,3)) #inverse matrix of a random 3x3"
   ]
  },
  {
   "cell_type": "code",
   "execution_count": 118,
   "metadata": {},
   "outputs": [
    {
     "name": "stdout",
     "output_type": "stream",
     "text": [
      "[[9. 0. 4.]\n",
      " [9. 7. 7.]\n",
      " [9. 9. 4.]]\n"
     ]
    }
   ],
   "source": [
    "b = np.random.rand(3,3)\n",
    "b = np.round(b*10)\n",
    "print(b)"
   ]
  },
  {
   "cell_type": "code",
   "execution_count": 119,
   "metadata": {},
   "outputs": [
    {
     "data": {
      "text/plain": [
       "array([[ 0.14403292, -0.14814815,  0.11522634],\n",
       "       [-0.11111111,  0.        ,  0.11111111],\n",
       "       [-0.07407407,  0.33333333, -0.25925926]])"
      ]
     },
     "execution_count": 119,
     "metadata": {},
     "output_type": "execute_result"
    }
   ],
   "source": [
    "la.inv(b) #print inv matrix of b"
   ]
  },
  {
   "cell_type": "code",
   "execution_count": 120,
   "metadata": {},
   "outputs": [
    {
     "name": "stdout",
     "output_type": "stream",
     "text": [
      "[[9. 0. 4.]\n",
      " [9. 7. 4.]\n",
      " [9. 9. 7.]]\n"
     ]
    }
   ],
   "source": [
    "b.sort(axis=0) #sort all the columns individually\n",
    "print(b)"
   ]
  },
  {
   "cell_type": "code",
   "execution_count": 122,
   "metadata": {},
   "outputs": [
    {
     "name": "stdout",
     "output_type": "stream",
     "text": [
      "[[0. 4. 9.]\n",
      " [4. 7. 9.]\n",
      " [7. 9. 9.]]\n"
     ]
    }
   ],
   "source": [
    "b.sort(axis=1) #sort all the rows individually\n",
    "print(b)"
   ]
  },
  {
   "cell_type": "code",
   "execution_count": 123,
   "metadata": {},
   "outputs": [],
   "source": [
    "a = np.arange(100)"
   ]
  },
  {
   "cell_type": "code",
   "execution_count": 125,
   "metadata": {},
   "outputs": [
    {
     "name": "stdout",
     "output_type": "stream",
     "text": [
      "[ 0  1  2  3  4  5  6  7  8  9 10 11 12 13 14 15 16 17 18 19 20 21 22 23\n",
      " 24 25 26 27 28 29 30 31 32 33 34 35 36 37 38 39]\n"
     ]
    }
   ],
   "source": [
    "b = a[a<40] #get all the elements smaller than 40 in a\n",
    "print(b)"
   ]
  },
  {
   "cell_type": "code",
   "execution_count": 126,
   "metadata": {},
   "outputs": [
    {
     "name": "stdout",
     "output_type": "stream",
     "text": [
      "[31 32 33 34 35 36 37 38 39 40]\n"
     ]
    }
   ],
   "source": [
    "b = a[(a>30) & (a<=40)]\n",
    "print(b)"
   ]
  },
  {
   "cell_type": "markdown",
   "metadata": {},
   "source": [
    "concatenation and broadcasting\n",
    "horizontal"
   ]
  },
  {
   "cell_type": "code",
   "execution_count": 127,
   "metadata": {},
   "outputs": [
    {
     "name": "stdout",
     "output_type": "stream",
     "text": [
      "[[2. 9. 3.]\n",
      " [1. 0. 4.]]\n"
     ]
    }
   ],
   "source": [
    "a = np.round(10*np.random.rand(2,3))\n",
    "print(a)"
   ]
  },
  {
   "cell_type": "code",
   "execution_count": 129,
   "metadata": {},
   "outputs": [
    {
     "data": {
      "text/plain": [
       "array([[ 5., 12.,  6.],\n",
       "       [ 4.,  3.,  7.]])"
      ]
     },
     "execution_count": 129,
     "metadata": {},
     "output_type": "execute_result"
    }
   ],
   "source": [
    "a +3 #3 will be added to each elemnt"
   ]
  },
  {
   "cell_type": "code",
   "execution_count": 132,
   "metadata": {},
   "outputs": [
    {
     "data": {
      "text/plain": [
       "'\\nAssuming a is a 2x3 matrix:\\n\\nnp.arange(2): This creates a 1D array with values [0, 1].\\n\\n.reshape(2, 1): This reshapes the 1D array into a 2x1 column vector.\\n\\na + np.arange(2).reshape(2, 1): This performs element-wise addition between the original matrix a and the reshaped array. Broadcasting is used here to match the shapes of the two arrays for element-wise addition.\\n\\nThe result would be a new 2x3 matrix where each column is increased by the corresponding value from the column vector [0, 1]. Specifically, the first column of a would have each element increased by 0, and the second column would have each element increased by 1.\\n'"
      ]
     },
     "execution_count": 132,
     "metadata": {},
     "output_type": "execute_result"
    }
   ],
   "source": [
    "a + np.arange(2).reshape(2,1)\n",
    "\"\"\"\n",
    "Assuming a is a 2x3 matrix:\n",
    "\n",
    "np.arange(2): This creates a 1D array with values [0, 1].\n",
    "\n",
    ".reshape(2, 1): This reshapes the 1D array into a 2x1 column vector.\n",
    "\n",
    "a + np.arange(2).reshape(2, 1): This performs element-wise addition between the original matrix a and the reshaped array. Broadcasting is used here to match the shapes of the two arrays for element-wise addition.\n",
    "\n",
    "The result would be a new 2x3 matrix where each column is increased by the corresponding value from the column vector [0, 1]. Specifically, the first column of a would have each element increased by 0, and the second column would have each element increased by 1.\n",
    "\"\"\"\n",
    "\n",
    "#0 added to row 1 and 1 added ro row 2"
   ]
  },
  {
   "cell_type": "code",
   "execution_count": 133,
   "metadata": {},
   "outputs": [
    {
     "data": {
      "text/plain": [
       "array([[2., 9., 3.],\n",
       "       [2., 1., 5.]])"
      ]
     },
     "execution_count": 133,
     "metadata": {},
     "output_type": "execute_result"
    }
   ],
   "source": [
    "a + np.arange(2).reshape(2,1)"
   ]
  },
  {
   "cell_type": "code",
   "execution_count": 134,
   "metadata": {},
   "outputs": [],
   "source": [
    "b = np.round(10*np.random.rand(2,2))"
   ]
  },
  {
   "cell_type": "code",
   "execution_count": 135,
   "metadata": {},
   "outputs": [
    {
     "data": {
      "text/plain": [
       "array([[2., 9., 3.],\n",
       "       [1., 0., 4.]])"
      ]
     },
     "execution_count": 135,
     "metadata": {},
     "output_type": "execute_result"
    }
   ],
   "source": [
    "a #a is 2x3 matrix"
   ]
  },
  {
   "cell_type": "code",
   "execution_count": 136,
   "metadata": {},
   "outputs": [
    {
     "data": {
      "text/plain": [
       "array([[ 9., 10.],\n",
       "       [ 2.,  5.]])"
      ]
     },
     "execution_count": 136,
     "metadata": {},
     "output_type": "execute_result"
    }
   ],
   "source": [
    "b #b is 2x2 matrix"
   ]
  },
  {
   "cell_type": "code",
   "execution_count": 137,
   "metadata": {},
   "outputs": [],
   "source": [
    "#concatenationHorizontal\n",
    "c = np.hstack((a,b)) #this will make 2x5 matrix"
   ]
  },
  {
   "cell_type": "code",
   "execution_count": 138,
   "metadata": {},
   "outputs": [
    {
     "data": {
      "text/plain": [
       "array([[ 2.,  9.,  3.,  9., 10.],\n",
       "       [ 1.,  0.,  4.,  2.,  5.]])"
      ]
     },
     "execution_count": 138,
     "metadata": {},
     "output_type": "execute_result"
    }
   ],
   "source": [
    "c"
   ]
  },
  {
   "cell_type": "code",
   "execution_count": null,
   "metadata": {},
   "outputs": [],
   "source": [
    " "
   ]
  }
 ],
 "metadata": {
  "kernelspec": {
   "display_name": "Python 3",
   "language": "python",
   "name": "python3"
  },
  "language_info": {
   "codemirror_mode": {
    "name": "ipython",
    "version": 3
   },
   "file_extension": ".py",
   "mimetype": "text/x-python",
   "name": "python",
   "nbconvert_exporter": "python",
   "pygments_lexer": "ipython3",
   "version": "3.10.12"
  }
 },
 "nbformat": 4,
 "nbformat_minor": 2
}
